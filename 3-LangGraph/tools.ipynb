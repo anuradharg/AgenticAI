{
 "cells": [
  {
   "cell_type": "code",
   "execution_count": 28,
   "id": "ade61be5",
   "metadata": {},
   "outputs": [],
   "source": [
    "from langchain_community.tools import WikipediaQueryRun"
   ]
  },
  {
   "cell_type": "code",
   "execution_count": 29,
   "id": "7b0c57b7",
   "metadata": {},
   "outputs": [],
   "source": [
    "from langchain_community.utilities import WikipediaAPIWrapper"
   ]
  },
  {
   "cell_type": "code",
   "execution_count": 30,
   "id": "5af2f390",
   "metadata": {},
   "outputs": [],
   "source": [
    "api_wrapper = WikipediaAPIWrapper(top_k_results=5,doc_content_chars_max=500)"
   ]
  },
  {
   "cell_type": "code",
   "execution_count": 31,
   "id": "b47c7117",
   "metadata": {},
   "outputs": [],
   "source": [
    "wiki_tool=WikipediaQueryRun(api_wrapper=api_wrapper)"
   ]
  },
  {
   "cell_type": "code",
   "execution_count": 32,
   "id": "5e602b9d",
   "metadata": {},
   "outputs": [
    {
     "data": {
      "text/plain": [
       "'wikipedia'"
      ]
     },
     "execution_count": 32,
     "metadata": {},
     "output_type": "execute_result"
    }
   ],
   "source": [
    "wiki_tool.name"
   ]
  },
  {
   "cell_type": "code",
   "execution_count": 33,
   "id": "bc487f8e",
   "metadata": {},
   "outputs": [
    {
     "data": {
      "text/plain": [
       "'A wrapper around Wikipedia. Useful for when you need to answer general questions about people, places, companies, facts, historical events, or other subjects. Input should be a search query.'"
      ]
     },
     "execution_count": 33,
     "metadata": {},
     "output_type": "execute_result"
    }
   ],
   "source": [
    "wiki_tool.description"
   ]
  },
  {
   "cell_type": "code",
   "execution_count": 34,
   "id": "2390709f",
   "metadata": {},
   "outputs": [
    {
     "data": {
      "text/plain": [
       "{'query': {'description': 'query to look up on wikipedia',\n",
       "  'title': 'Query',\n",
       "  'type': 'string'}}"
      ]
     },
     "execution_count": 34,
     "metadata": {},
     "output_type": "execute_result"
    }
   ],
   "source": [
    "wiki_tool.args"
   ]
  },
  {
   "cell_type": "code",
   "execution_count": 35,
   "id": "1e1b2699",
   "metadata": {},
   "outputs": [
    {
     "data": {
      "text/plain": [
       "\"Page: Elon Musk\\nSummary: Elon Reeve Musk ( EE-lon; born June 28, 1971) is a businessman known for his leadership of Tesla, SpaceX, X (formerly Twitter) and the Department of Government Efficiency (DOGE). Musk has been considered the wealthiest person in the world since 2021; as of May 2025, Forbes estimates his net worth to be US$424.7 billion. \\nBorn to a wealthy family in Pretoria, South Africa, Musk emigrated in 1989 to Canada. He received bachelor's degrees from the University of Pennsylvania\""
      ]
     },
     "execution_count": 35,
     "metadata": {},
     "output_type": "execute_result"
    }
   ],
   "source": [
    "wiki_tool.run({\"query\": \"Elon Musk\"})"
   ]
  },
  {
   "cell_type": "code",
   "execution_count": 36,
   "id": "631c6653",
   "metadata": {},
   "outputs": [
    {
     "data": {
      "text/plain": [
       "\"Page: Elon Musk\\nSummary: Elon Reeve Musk ( EE-lon; born June 28, 1971) is a businessman known for his leadership of Tesla, SpaceX, X (formerly Twitter) and the Department of Government Efficiency (DOGE). Musk has been considered the wealthiest person in the world since 2021; as of May 2025, Forbes estimates his net worth to be US$424.7 billion. \\nBorn to a wealthy family in Pretoria, South Africa, Musk emigrated in 1989 to Canada. He received bachelor's degrees from the University of Pennsylvania\""
      ]
     },
     "execution_count": 36,
     "metadata": {},
     "output_type": "execute_result"
    }
   ],
   "source": [
    "wiki_tool.run(\"Elon Musk\")"
   ]
  },
  {
   "cell_type": "code",
   "execution_count": 37,
   "id": "5f2e3bdb",
   "metadata": {},
   "outputs": [],
   "source": [
    "from langchain_community.tools import YouTubeSearchTool"
   ]
  },
  {
   "cell_type": "code",
   "execution_count": 38,
   "id": "5c07723c",
   "metadata": {},
   "outputs": [],
   "source": [
    "tool=YouTubeSearchTool()"
   ]
  },
  {
   "cell_type": "code",
   "execution_count": 39,
   "id": "bf742461",
   "metadata": {},
   "outputs": [
    {
     "data": {
      "text/plain": [
       "'youtube_search'"
      ]
     },
     "execution_count": 39,
     "metadata": {},
     "output_type": "execute_result"
    }
   ],
   "source": [
    "tool.name"
   ]
  },
  {
   "cell_type": "code",
   "execution_count": 40,
   "id": "9694037e",
   "metadata": {},
   "outputs": [
    {
     "data": {
      "text/plain": [
       "'search for youtube videos associated with a person. the input to this tool should be a comma separated list, the first part contains a person name and the second a number that is the maximum number of video results to return aka num_results. the second part is optional'"
      ]
     },
     "execution_count": 40,
     "metadata": {},
     "output_type": "execute_result"
    }
   ],
   "source": [
    "tool.description"
   ]
  },
  {
   "cell_type": "code",
   "execution_count": 41,
   "id": "d33edabd",
   "metadata": {},
   "outputs": [
    {
     "data": {
      "text/plain": [
       "\"['https://www.youtube.com/watch?v=ceV3RsG946s&pp=ygUJbWljcm9zb2Z0', 'https://www.youtube.com/watch?v=egeqfUGiETY&pp=ygUJbWljcm9zb2Z0']\""
      ]
     },
     "execution_count": 41,
     "metadata": {},
     "output_type": "execute_result"
    }
   ],
   "source": [
    "tool.run(\"microsoft\")"
   ]
  },
  {
   "cell_type": "code",
   "execution_count": 42,
   "id": "4a71c2b6",
   "metadata": {},
   "outputs": [],
   "source": [
    "from langchain_community.tools import TavilySearchResults"
   ]
  },
  {
   "cell_type": "code",
   "execution_count": null,
   "id": "29bcfc17",
   "metadata": {},
   "outputs": [],
   "source": [
    "from dotenv import load_dotenv\n",
    "import os"
   ]
  },
  {
   "cell_type": "code",
   "execution_count": 44,
   "id": "2cf4c5ae",
   "metadata": {},
   "outputs": [
    {
     "data": {
      "text/plain": [
       "True"
      ]
     },
     "execution_count": 44,
     "metadata": {},
     "output_type": "execute_result"
    }
   ],
   "source": [
    "load_dotenv()"
   ]
  },
  {
   "cell_type": "code",
   "execution_count": 46,
   "id": "f53009af",
   "metadata": {},
   "outputs": [],
   "source": [
    "from langchain_community.tools import TavilySearchResults"
   ]
  },
  {
   "cell_type": "code",
   "execution_count": 51,
   "id": "5613642a",
   "metadata": {},
   "outputs": [],
   "source": [
    "TAVILY_API_KEY=os.getenv('TAVILY_API_KEY')"
   ]
  },
  {
   "cell_type": "code",
   "execution_count": 48,
   "id": "8dc826ba",
   "metadata": {},
   "outputs": [],
   "source": [
    "tool = TavilySearchResults(tavily_api_key=os.getenv('TAVILY_API_KEY'))"
   ]
  },
  {
   "cell_type": "code",
   "execution_count": 50,
   "id": "47919748",
   "metadata": {},
   "outputs": [
    {
     "data": {
      "text/plain": [
       "[{'title': 'Miss Universe 1994 - Alphageant Wiki | Fandom',\n",
       "  'url': 'https://alphageant.fandom.com/wiki/Miss_Universe_1994',\n",
       "  'content': '**Miss Universe 1994**, The 43rd edition of Miss Universe beauty pageant was held at Philippine International Convention Center, Pasay City, Manila, Philippines on May 21, 1994. It was hosted by Bob Goen with Arthel Neville and Angela Visser as commentator and backstage correspondent, lived on CBS and ABS-CBN. 77 delegates from different countries and territories around the world competed for the title. At the end of the event, **Sushmita Sen** of **India** was crowned **Miss Universe 1994** by [...] | **Placement** | **Contestant** |\\n| --- | --- |\\n| **Miss Universe 1994** | **[India](https://en.wikipedia.org/wiki/en:India \"wikipedia:en:India\") – Sushmita Sen** |\\n| **1st runner-up** | [Colombia](https://en.wikipedia.org/wiki/en:Colombia \"wikipedia:en:Colombia\") – Carolina Gómez |\\n| **2nd runner-up** | [Venezuela](https://en.wikipedia.org/wiki/en:Venezuela \"wikipedia:en:Venezuela\") – Minorka Mercado | [...] |  |  |\\n| --- | --- |\\n| *Miss Universe 1994* | |\\n|  |\\n|  | |\\n| **Date:** | May 21, 1994 |\\n| **Presenters:** | Bob Goen, Arthel Neville, Angela Visser |\\n| **Entertainments:** | Peabo Bryson, Bayanihan Philippine National Folk Dance Company, Eraserheads |\\n| **Venue:** | Philippine International Convention Center, Pasay City, Manila, Philippines |\\n| **Broadcasters:** | CBS, ABS-CBN |\\n| **Entrants:** | 77 |\\n| **Placements:** | 10 |\\n| **Debuts:** | Russia, Slovak Republic, Zimbabwe |',\n",
       "  'score': 0.9500091},\n",
       " {'title': 'Miss Universe 1994 - Wikipedia',\n",
       "  'url': 'https://en.wikipedia.org/wiki/Miss_Universe_1994',\n",
       "  'content': '| Miss Universe 1994 | |\\n| --- | --- |\\n| [Sushmita Sen](/wiki/Sushmita_Sen \"Sushmita Sen\"), Miss Universe 1994 | |\\n| Date | 21 May 1994 |\\n| Presenters | * [Bob Goen](/wiki/Bob_Goen \"Bob Goen\") * [Arthel Neville](/wiki/Arthel_Neville \"Arthel Neville\") * [Angela Visser](/wiki/Angela_Visser \"Angela Visser\") | [...] | Placement | Contestant |\\n| --- | --- |\\n| Miss Universe 1994 | * India – [Sushmita Sen](/wiki/Sushmita_Sen \"Sushmita Sen\") |\\n| 1st runner-up | * Colombia – [Carolina Gómez](/wiki/Carolina_G%C3%B3mez \"Carolina Gómez\") |\\n| 2nd runner-up | * Venezuela – [Minorka Mercado](/wiki/Minorka_Mercado \"Minorka Mercado\") |\\n| Top 6 | * Philippines – [Charlene Gonzales](/wiki/Charlene_Gonzales \"Charlene Gonzales\") * Slovakia – Silvia Lakatošová * United States – [Lu Parker](/wiki/Lu_Parker \"Lu Parker\") | [...] | Top 10 | * Greece – Rea Toutounzi * Italy – Arianna David * Sweden – Domenique Forsberg * Switzerland – Patricia Fässler |',\n",
       "  'score': 0.9481979},\n",
       " {'title': '42 Miss Universe 1994 Photos & High Res Pictures - Getty Images',\n",
       "  'url': 'https://www.gettyimages.com/photos/miss-universe-1994',\n",
       "  'content': '![Miss Universe 1994 Sushmita Sen attends the Third Annual Jim Thorpe Pro Sports Awards on July 11, 1994 at the Wiltern Theatre in Los Angeles,...](https://media.gettyimages.com/id/463759782/photo/los-angeles-miss-universe-1994-sushmita-sen-attends-the-third-annual-jim-thorpe-pro-sports.jpg?s=612x612&w=0&k=20&c=SSalD10leZpABVOjLwiVRdR0uEwjmFtR30Y8VdAqLww=) [...] ![Miss Universe 1994 Sushmita Sen attends the Third Annual Jim Thorpe Pro Sports Awards on July 11, 1994 at the Wiltern Theatre in Los Angeles,...](https://media.gettyimages.com/id/463759804/photo/los-angeles-miss-universe-1994-sushmita-sen-attends-the-third-annual-jim-thorpe-pro-sports.jpg?s=612x612&w=0&k=20&c=WQCK_8lKO9LTqpS57Sa60B2Yxw1Te9pzsHylonbs73w=) [...] ![Newly crowned Miss Univeerse 1994 Sushmita Sen during a press conference in New Delhi on February 08, 1994.](https://media.gettyimages.com/id/1352013435/photo/newly-crowned-miss-univeerse-1994-sushmita-sen-during-a-press-conference-in-new-delhi-on.jpg?s=612x612&w=0&k=20&c=yjIQJSD8orPRuf6CBqei__8xDr5KnUNrvv3_t_SLKwk=)',\n",
       "  'score': 0.91288006},\n",
       " {'title': 'CROWNING MOMENT: Miss Universe 1994 - Facebook',\n",
       "  'url': 'https://www.facebook.com/MissUniverse/videos/crowning-moment-miss-universe-1994/419533612444444/',\n",
       "  'content': 'CROWNING MOMENT: Miss Universe 1994 · Miss Universe 1994 is.... Aarti Negi and 122K others · . 122K · 1K. Last viewed on: Jun 8,',\n",
       "  'score': 0.902481}]"
      ]
     },
     "execution_count": 50,
     "metadata": {},
     "output_type": "execute_result"
    }
   ],
   "source": [
    "tool.invoke({\"query\": \"Who was Miss Universe in 1994?\"})"
   ]
  }
 ],
 "metadata": {
  "kernelspec": {
   "display_name": "Python 3",
   "language": "python",
   "name": "python3"
  },
  "language_info": {
   "codemirror_mode": {
    "name": "ipython",
    "version": 3
   },
   "file_extension": ".py",
   "mimetype": "text/x-python",
   "name": "python",
   "nbconvert_exporter": "python",
   "pygments_lexer": "ipython3",
   "version": "3.13.0"
  }
 },
 "nbformat": 4,
 "nbformat_minor": 5
}
